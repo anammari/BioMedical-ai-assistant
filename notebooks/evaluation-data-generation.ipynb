{
 "cells": [
  {
   "cell_type": "markdown",
   "id": "f35b1666-5393-458a-b747-177c1a1525ca",
   "metadata": {},
   "source": [
    "# Generatng the Data Sample for Retrieval Evaluation "
   ]
  },
  {
   "cell_type": "code",
   "execution_count": 27,
   "id": "27553d87",
   "metadata": {},
   "outputs": [],
   "source": [
    "from IPython.display import display, HTML\n",
    "import json\n",
    "import os\n",
    "import time\n",
    "from tqdm.auto import tqdm\n",
    "import pandas as pd\n",
    "import google.auth\n",
    "from google.oauth2 import service_account\n",
    "import vertexai\n",
    "from vertexai.generative_models import GenerativeModel\n",
    "from dotenv import load_dotenv, find_dotenv\n",
    "_ = load_dotenv(find_dotenv())\n",
    "\n",
    "# Set up the API key and project ID for Gemini \n",
    "PROJECT_ID = os.environ['GCP_PROJECT_ID']\n",
    "credentials = service_account.Credentials.from_service_account_file(\n",
    "    \"../pacific-ethos-428312-n5-eb4864ff3add.json\"\n",
    ")\n",
    "vertexai.init(project=PROJECT_ID, credentials=credentials, location=\"us-central1\")"
   ]
  },
  {
   "cell_type": "markdown",
   "id": "dbd61b0a",
   "metadata": {},
   "source": [
    "### Load and Sample the Source Data"
   ]
  },
  {
   "cell_type": "code",
   "execution_count": 28,
   "id": "5babe3a1-3d8b-428a-92a8-5fc2285fc494",
   "metadata": {},
   "outputs": [],
   "source": [
    "# Path to your data JSONL file\n",
    "file_path = '../data/bq-results-20240829-041517-1724904953827.jsonl'\n",
    "\n",
    "# Read the JSONL file directly into a Pandas DataFrame and transform to JSON documents\n",
    "df = pd.read_json(file_path, lines=True)\n",
    "\n",
    "# Get a random sample\n",
    "df = df.sample(200).reset_index(drop=True)\n",
    "\n",
    "documents = df.to_dict(orient='records')"
   ]
  },
  {
   "cell_type": "markdown",
   "id": "c95e69c4",
   "metadata": {},
   "source": [
    "### Evaluation Data Generation Prompt"
   ]
  },
  {
   "cell_type": "code",
   "execution_count": 29,
   "id": "0d9752d8-ab2f-48d4-a3d9-fa33edb52c15",
   "metadata": {},
   "outputs": [],
   "source": [
    "prompt_template = \"\"\"\n",
    "You emulate a user of our Biomedical Research database.\n",
    "Formulate 5 questions this user might ask based on a provided Biomedical article.\n",
    "Make the questions very specific to this article.\n",
    "The article record should contain the answer to the questions, and the questions should\n",
    "be complete and not too short. Use as fewer words as possible from the record. \n",
    "\n",
    "The record:\n",
    "\n",
    "abstract: {abstract}\n",
    "authors: {authors}\n",
    "keywords: {keywords}\n",
    "organization_affiliated: {organization_affiliated}\n",
    "title: {title}\n",
    "\n",
    "Provide the output in parsable JSON without using code blocks:\n",
    "\n",
    "{{\"questions\": [\"question1\", \"question2\", ..., \"question5\"]}}\n",
    "\"\"\".strip()"
   ]
  },
  {
   "cell_type": "markdown",
   "id": "e6a5d5de",
   "metadata": {},
   "source": [
    "### Sanity Check on First Article"
   ]
  },
  {
   "cell_type": "code",
   "execution_count": 30,
   "id": "f07f48f9-d611-4a47-bd62-f75731608ad6",
   "metadata": {},
   "outputs": [],
   "source": [
    "prompt = prompt_template.format(**documents[0])"
   ]
  },
  {
   "cell_type": "code",
   "execution_count": 31,
   "id": "de2a1632-4d02-46ff-9ae1-58c9704404b4",
   "metadata": {},
   "outputs": [],
   "source": [
    "def llm(prompt, model=\"gemini-1.5-flash-001\"):\n",
    "    model = GenerativeModel(model)\n",
    "    response = model.generate_content(prompt)\n",
    "    return response.text"
   ]
  },
  {
   "cell_type": "code",
   "execution_count": 32,
   "id": "6534a160-f763-4d21-8176-4bed6326bbb7",
   "metadata": {},
   "outputs": [
    {
     "data": {
      "text/plain": [
       "{'questions': ['What are the systemic factors that should be considered when assessing residual periodontal probing depths?',\n",
       "  'What are the non-surgical and surgical treatment options available for periodontal reassessment?',\n",
       "  'How do general, practical, and local site factors influence the choice of treatment option?',\n",
       "  'What are the specific systemic factors that are associated with residual periodontal probing depths?',\n",
       "  'What information should be gathered at the reassessment appointment, as outlined in the first article of this series?']}"
      ]
     },
     "execution_count": 32,
     "metadata": {},
     "output_type": "execute_result"
    }
   ],
   "source": [
    "questions = llm(prompt)\n",
    "json_string = questions.strip().replace('json', '').replace('`', '')\n",
    "json.loads(json_string)"
   ]
  },
  {
   "cell_type": "markdown",
   "id": "a376ad4a",
   "metadata": {},
   "source": [
    "### Generate the Questions for the Sampled Records"
   ]
  },
  {
   "cell_type": "code",
   "execution_count": 33,
   "id": "da0d6db9-9ed8-48a6-b483-ead8786a5fb7",
   "metadata": {},
   "outputs": [],
   "source": [
    "def generate_questions(doc):\n",
    "    prompt = prompt_template.format(**doc)\n",
    "    questions = llm(prompt)\n",
    "    json_string = questions.strip().replace('json', '').replace('`', '')\n",
    "    return json_string\n",
    "\n",
    "def handle_rate_limit_error():\n",
    "    print(\"Rate limit exceeded. Sleeping for 60 seconds...\")\n",
    "    time.sleep(60)"
   ]
  },
  {
   "cell_type": "code",
   "execution_count": 34,
   "id": "af0059d5-5895-4f28-be24-2465607dd581",
   "metadata": {},
   "outputs": [
    {
     "data": {
      "application/vnd.jupyter.widget-view+json": {
       "model_id": "f6df6e013acd4b95a13e0f8c1c26c486",
       "version_major": 2,
       "version_minor": 0
      },
      "text/plain": [
       "  0%|          | 0/200 [00:00<?, ?it/s]"
      ]
     },
     "metadata": {},
     "output_type": "display_data"
    },
    {
     "name": "stdout",
     "output_type": "stream",
     "text": [
      "Rate limit exceeded. Sleeping for 60 seconds...\n",
      "Rate limit exceeded. Sleeping for 60 seconds...\n",
      "Rate limit exceeded. Sleeping for 60 seconds...\n",
      "Rate limit exceeded. Sleeping for 60 seconds...\n",
      "Rate limit exceeded. Sleeping for 60 seconds...\n",
      "Rate limit exceeded. Sleeping for 60 seconds...\n",
      "Rate limit exceeded. Sleeping for 60 seconds...\n",
      "Rate limit exceeded. Sleeping for 60 seconds...\n",
      "Rate limit exceeded. Sleeping for 60 seconds...\n",
      "Rate limit exceeded. Sleeping for 60 seconds...\n",
      "Rate limit exceeded. Sleeping for 60 seconds...\n",
      "Rate limit exceeded. Sleeping for 60 seconds...\n",
      "Rate limit exceeded. Sleeping for 60 seconds...\n",
      "Rate limit exceeded. Sleeping for 60 seconds...\n",
      "Rate limit exceeded. Sleeping for 60 seconds...\n",
      "Rate limit exceeded. Sleeping for 60 seconds...\n",
      "Rate limit exceeded. Sleeping for 60 seconds...\n",
      "Rate limit exceeded. Sleeping for 60 seconds...\n",
      "Rate limit exceeded. Sleeping for 60 seconds...\n",
      "Rate limit exceeded. Sleeping for 60 seconds...\n",
      "Rate limit exceeded. Sleeping for 60 seconds...\n",
      "Rate limit exceeded. Sleeping for 60 seconds...\n",
      "Rate limit exceeded. Sleeping for 60 seconds...\n",
      "Rate limit exceeded. Sleeping for 60 seconds...\n",
      "Rate limit exceeded. Sleeping for 60 seconds...\n"
     ]
    }
   ],
   "source": [
    "results = {}\n",
    "for doc in tqdm(documents):\n",
    "    doc_id = doc['id']\n",
    "    if doc_id in results:\n",
    "        continue\n",
    "\n",
    "    while True:  # Retry loop\n",
    "        try:\n",
    "            questions_raw = generate_questions(doc)\n",
    "            questions = json.loads(questions_raw)\n",
    "            results[doc_id] = questions['questions']\n",
    "            break  # Exit the retry loop if successful\n",
    "        except Exception as e:\n",
    "            if \"Quota exceeded\" in str(e):\n",
    "                handle_rate_limit_error()\n",
    "            else:\n",
    "                # Handle other exceptions or re-raise them\n",
    "                raise e"
   ]
  },
  {
   "cell_type": "code",
   "execution_count": 35,
   "id": "2bcc6347-80af-499e-9ee6-d346f0e9f067",
   "metadata": {},
   "outputs": [],
   "source": [
    "final_results = []\n",
    "\n",
    "for doc_id, questions in results.items():\n",
    "    for q in questions:\n",
    "        final_results.append((doc_id, q))"
   ]
  },
  {
   "cell_type": "code",
   "execution_count": 36,
   "id": "0037e60a-e338-481e-9845-e3161c881ba3",
   "metadata": {},
   "outputs": [
    {
     "data": {
      "text/plain": [
       "('c3ea29df-6683-4443-a2c7-3f027137c1d8',\n",
       " 'What are some systemic factors that influence treatment decisions for residual periodontal probing depths?')"
      ]
     },
     "execution_count": 36,
     "metadata": {},
     "output_type": "execute_result"
    }
   ],
   "source": [
    "final_results[0]"
   ]
  },
  {
   "cell_type": "code",
   "execution_count": 37,
   "id": "231da44a-2035-4975-b02b-7814eeb07694",
   "metadata": {},
   "outputs": [
    {
     "data": {
      "text/plain": [
       "('c3ea29df-6683-4443-a2c7-3f027137c1d8',\n",
       " 'What types of systemic factors should be considered when a patient presents with residual probing depths?')"
      ]
     },
     "execution_count": 37,
     "metadata": {},
     "output_type": "execute_result"
    }
   ],
   "source": [
    "final_results[1]"
   ]
  },
  {
   "cell_type": "markdown",
   "id": "39e639f3-a963-43e1-b385-412647268d53",
   "metadata": {},
   "source": [
    "### Save the Data as Ground Truth for Evaluation"
   ]
  },
  {
   "cell_type": "code",
   "execution_count": 38,
   "id": "3e1fac17-dccb-46d7-bade-50166dafbd52",
   "metadata": {},
   "outputs": [],
   "source": [
    "df_results = pd.DataFrame(final_results, columns=['id', 'question'])"
   ]
  },
  {
   "cell_type": "code",
   "execution_count": 39,
   "id": "c64131b0-9cca-488b-a819-320bcd5f9342",
   "metadata": {},
   "outputs": [],
   "source": [
    "df_results.to_csv('../data/ground-truth-retrieval.csv', index=False)"
   ]
  },
  {
   "cell_type": "code",
   "execution_count": null,
   "id": "f1f87a34-e06b-4393-95ff-4d587c09afd7",
   "metadata": {},
   "outputs": [],
   "source": []
  }
 ],
 "metadata": {
  "kernelspec": {
   "display_name": "Python 3 (ipykernel)",
   "language": "python",
   "name": "python3"
  },
  "language_info": {
   "codemirror_mode": {
    "name": "ipython",
    "version": 3
   },
   "file_extension": ".py",
   "mimetype": "text/x-python",
   "name": "python",
   "nbconvert_exporter": "python",
   "pygments_lexer": "ipython3",
   "version": "3.12.3"
  }
 },
 "nbformat": 4,
 "nbformat_minor": 5
}
