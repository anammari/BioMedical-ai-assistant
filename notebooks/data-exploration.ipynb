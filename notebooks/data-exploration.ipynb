{
 "cells": [
  {
   "cell_type": "markdown",
   "metadata": {},
   "source": [
    "# Dataset Exploration with Pandas and Minsearch"
   ]
  },
  {
   "cell_type": "markdown",
   "metadata": {},
   "source": [
    "### Import Libraries and Read Data Sample"
   ]
  },
  {
   "cell_type": "code",
   "execution_count": 2,
   "metadata": {},
   "outputs": [
    {
     "data": {
      "text/html": [
       "<table border=\"1\" class=\"dataframe\">\n",
       "  <thead>\n",
       "    <tr style=\"text-align: right;\">\n",
       "      <th></th>\n",
       "      <th>abstract</th>\n",
       "      <th>authors</th>\n",
       "      <th>keywords</th>\n",
       "      <th>organization_affiliated</th>\n",
       "      <th>title</th>\n",
       "      <th>id</th>\n",
       "    </tr>\n",
       "  </thead>\n",
       "  <tbody>\n",
       "    <tr>\n",
       "      <th>0</th>\n",
       "      <td>Melatonin is a hormone produced by the pineal gland, predominantly at night, and plays a pivotal role in regulating the circadian rhythm as well as a variety of biological functions, including anti-inflammation, anti-oxidation, inhibition of sympathetic nerve activity, and preservation of endothelial cell function. The intrarenal renin–angiotensin system (RAS) is one of the most important contributors in the pathophysiology of chronic kidney disease (CKD) and hypertension, independent of the circulating RAS, due to sodium reabsorption and inflammation and fibrosis in the kidney. However, the relationship between melatonin secretion and intrarenal RAS activation has remained unknown. It has been recently shown that impaired nighttime melatonin secretion is associated with nighttime urinary angiotensinogen excretion, a surrogate marker of intrarenal RAS activation and renal damage in patients with CKD. Moreover, it has also been indicated that melatonin administered exogenously exercises antioxidant effects that ameliorate intrarenal RAS activation and renal injury in chronic progressive CKD animal models. As a result, the new roles of melatonin in suppressing RAS in the kidney via amelioration of reactive oxygen species have been clarified. Therefore, we review the relationship between melatonin and intrarenal RAS activation and indicate the possibility of a new strategy to suppress CKD, which is a risk factor for cardiovascular and end-stage renal diseases.</td>\n",
       "      <td>Naro Ohashi; Sayaka Ishigaki; Shinsuke Isobe</td>\n",
       "      <td>Medicine/Public Health, general; Internal Medicine; Public Health; Geriatrics/Gerontology; Obstetrics/Perinatology/Midwifery; Health Promotion and Disease Prevention</td>\n",
       "      <td>Internal Medicine 1, Hamamatsu University School of Medicine, Higashi-ku Hamamatsu, Japan; Blood Purification Unit, Hamamatsu University School of Medicine, Higashi-ku Hamamatsu, Japan; Internal Medicine 1, Hamamatsu University School of Medicine, Higashi-ku Hamamatsu, Japan</td>\n",
       "      <td>The pivotal role of melatonin in ameliorating chronic kidney disease by suppression of the renin–angiotensin system in the kidney</td>\n",
       "      <td>e08c8e11-2fa3-4f69-86d1-85394f5c21d6</td>\n",
       "    </tr>\n",
       "    <tr>\n",
       "      <th>1</th>\n",
       "      <td>In general, Friedel-Crafts reaction is incompatible with amines due to the Lewis acidity of the catalysts. Recently, we reported that cyclic diaminocarbene-Gold(I) can be used as catalyst for the Friedel-Crafts alkylation between aromatic amines and alkenes. Herein, a systematically theoretical research was performed on this rare Friedel-Crafts reaction. The adopted calculation method is accurate enough to reproduce the crystal structure of the catalyst. It was found that the reactions followed the electrophilic aromatic substitution mechanism. The gold cation can activate the C=C double bond and generate the electrophilic group which can be attacked by the aromatic ring. The para-product is more energy favorable which agrees well with the experimental results. The reaction of α-methylstyrene follows the Markovnikov rule, and the activation energy to generate the branched product of methylstyrene is lower than that producing the linear product. However, the reaction of butanone follows the anti-Markovnikov rule, and the activation energy to generate the branched product of butanone is higher than that producing the linear product. These calculation results reveal the mechanism of this new Friedel-Crafts reaction. It can well explain the high para-selectivity and the substrate-dependent of the product structures in the experiment.</td>\n",
       "      <td>Hangzhi Wu; Tianxiang Zhao; Xingbang Hu</td>\n",
       "      <td>Catalytic mechanisms; Reaction mechanisms</td>\n",
       "      <td>High School Affiliated to Nanjing Normal University, Nanjing, P. R. China; School of Chemistry and Chemical Engineering, Nanjing University, Nanjing, P. R. China; School of Chemistry and Chemical Engineering, Nanjing University, Nanjing, P. R. China</td>\n",
       "      <td>Friedel-Crafts Reaction of N,N-Dimethylaniline with Alkenes Catalyzed by Cyclic Diaminocarbene-Gold(I) Complex</td>\n",
       "      <td>03ee2057-319f-41fc-b1ab-3e30d7e278ae</td>\n",
       "    </tr>\n",
       "    <tr>\n",
       "      <th>2</th>\n",
       "      <td>Increased ultraviolet B (UVB) radiation due to global change can affect plant growth and metabolism. Here, we evaluated the capacity of quinoa to resist under short acute UVB irradiation. Quinoa was daily exposed for 30 or 60 min to 1.69 W m−2 UVB. The results showed that 30 min exposure in 9 d-course did not cause severe alterations on photosynthetic pigments and flavonoids, but a significant increase of antioxidant capacity was observed. Otherwise, 60 min UVB in 5 d-course reduced almost all these parameters except for an increase in the de-epoxidation of xanthophyll cycle pigments and led to the death of the plants. Further studies of gas exchange and fluorescence measurements showed that 30 min UVB dramatically decrease stomatal conductance, probably associated to reactive oxygen species (ROS) production. Inhibition of photosynthetic electron transport was also observed, which could be a response to reduce ROS. Otherwise, irreversible damage to the photosynthetic apparatus was found with 60 min UVB probably due to severe ROS overproduction that decompensates the redox balance inducing UVB non-specific signaling. Moreover, 60 min UVB compromised Rubisco carboxylase activity and photosynthetic electron transport. Overall, these data suggest that quinoa modulates different response mechanisms depending on the UVB irradiation dosage.</td>\n",
       "      <td>Thais Huarancca Reyes; Andrea Scartazza; Antonella Castagna; Eric G. Cosio; Annamaria Ranieri; Lorenzo Guglielminetti</td>\n",
       "      <td>Abiotic; Plant physiology</td>\n",
       "      <td>Department of Agriculture, Food and Environment, University of Pisa, Pisa, Italy; Institute of Agro-environmental and Forest Biology, National Research Council, Monterotondo Scalo (RM), Italy; Department of Agriculture, Food and Environment, University of Pisa, Pisa, Italy; Sección Química, Pontificia Universidad Católica del Perú, Lima, Peru; Department of Agriculture, Food and Environment, University of Pisa, Pisa, Italy; Interdepartmental Research Center “Nutraceuticals and Food for Health”, University of Pisa, Pisa, Italy; Department of Agriculture, Food and Environment, University of Pisa, Pisa, Italy; Interdepartmental Research Center “Nutraceuticals and Food for Health”, University of Pisa, Pisa, Italy</td>\n",
       "      <td>Physiological effects of short acute UVB treatments in Chenopodium quinoa Willd</td>\n",
       "      <td>0524f37a-bdaa-4bb3-bfa1-60d73115f905</td>\n",
       "    </tr>\n",
       "    <tr>\n",
       "      <th>3</th>\n",
       "      <td>Secondhand smoke exposure of non-smoking women during pregnancy is associated with a higher risk of adverse birth outcomes. However, the available evidence regarding the association between expectant mothers’ secondhand smoke exposure and breastfeeding outcomes remains limited. This systematic review aimed to examine associations between secondhand smoke exposure of nonsmoking women during pregnancy with the initiation, prevalence, and duration or breastfeeding compared to women who were breastfeeding and had not been exposed to secondhand smoke. Women who smoked during pregnancy were excluded. We included case-control, cross-sectional, and cohort studies with a comparison control group. Medline CINAHL, and EMBASE were searched in January 2017. After screening 2777 records we included eight prospective cohort studies. The risk of bias assessment tool for non-randomized studies indicated a high risk of outcome assessment blinding. Meta-analysis of two studies established that the odds of discontinuation of any brestfeeding before six months were significantly increased in the secondhand smoke exposed women (pooled odds = 1.07 [95%CI = 1.01, 1.14], two studies, 1382 women). Therefore, secondhand smoke might be associated with discontinuing any breastfeeding before six months. More research is necessary to understand the association between secondhand smoke and the initiation, prevalence and duration of breastfeeding.</td>\n",
       "      <td>Daichi Suzuki; Windy M. V. Wariki; Maiko Suto; Noyuri Yamaji; Yo Takemoto; Mosfequr Rahman; Erika Ota</td>\n",
       "      <td>Neonatology; Pregnancy outcome</td>\n",
       "      <td>Josai International University, Faculty of Nursing, Department of Nursing, Chiba, Japan; St. Luke’s International University, Graduate School of Nursing Science, Global Health Nursing, Chuo-ku, Japan; Sam Ratulangi University, Faculty of Medicine, JL. Kampus UNSRAT, Bahu, Kleak, Malalayang, Kota Manado, Indonesia; National Center for Child Health and Development, Department of Health Policy, Setagaya-ku, Japan; St. Luke’s International University, Graduate School of Nursing Science, Global Health Nursing, Chuo-ku, Japan; Juntendo University, Department of Obstetrics and Gynecology, Bunkyo-ku, Japan; University of Rajshahi, Department of Population Science and Human Resource Development, Rajshahi, Bangladesh; St. Luke’s International University, Graduate School of Nursing Science, Global Health Nursing, Chuo-ku, Japan</td>\n",
       "      <td>Secondhand Smoke Exposure During Pregnancy and Mothers’ Subsequent Breastfeeding Outcomes: A Systematic Review and Meta-Analysis</td>\n",
       "      <td>340d4759-6810-4595-985a-903e15e69f88</td>\n",
       "    </tr>\n",
       "    <tr>\n",
       "      <th>4</th>\n",
       "      <td>Pharmacokinetic (PK) data to guide cefazolin dosing in premature infants are virtually non-existent. Therefore, we aimed to characterize cefazolin PK in infants aged ≤32 weeks of gestation at birth. We conducted a prospective, open-label PK and safety study of cefazolin in infants ≤32 weeks gestation from a University Medical Center. We administered intravenous cefazolin and collected both timed and scavenged blood samples. We analyzed data using non-linear mixed effect modeling and simulated several dosage regimens to achieve target concentrations against methicillin-susceptible Staphylococcus aureus. We analyzed 40 samples from nine infants and observed that premature infants had lower clearance and greater volume of distribution for cefazolin compared to older children. The median (range) individual Bayesian estimates were 0.03 L/h/kg (0.01–0.08) for clearance and 0.39 L/kg (0.31–0.52) for volume. Simulations suggested reduced cefazolin dosing based on postmenstrual age achieve target concentrations and potentially reduce unnecessary exposure.</td>\n",
       "      <td>Stephen J. Balevic; P. Brian Smith; Daniela Testoni; Huali Wu; Kim L. R. Brouwer; Kanecia O. Zimmerman; Nazario D. Rivera-Chaparro; Daniel K. Benjamin; Michael Cohen-Wolkowiez</td>\n",
       "      <td>Antimicrobial therapy; Paediatrics</td>\n",
       "      <td>Duke Clinical Research Institute, Durham, USA; Department of Pediatrics, Duke University Medical Center, Durham, USA; Duke Clinical Research Institute, Durham, USA; Department of Pediatrics, Duke University Medical Center, Durham, USA; Escola Paulista de Medicina-Universidade Federal de São Paulo, São Paulo, Brazil; Duke Clinical Research Institute, Durham, USA; UNC Eshelman School of Pharmacy, University of North Carolina at Chapel Hill, Chapel Hill, USA; Duke Clinical Research Institute, Durham, USA; Department of Pediatrics, Duke University Medical Center, Durham, USA; Novant Health Medical Group, Charlotte, USA; Duke Clinical Research Institute, Durham, USA; Department of Pediatrics, Duke University Medical Center, Durham, USA; Duke Clinical Research Institute, Durham, USA; Department of Pediatrics, Duke University Medical Center, Durham, USA</td>\n",
       "      <td>Cefazolin pharmacokinetics in premature infants</td>\n",
       "      <td>1b424d76-437d-4640-84f3-3c4e77c102e0</td>\n",
       "    </tr>\n",
       "  </tbody>\n",
       "</table>"
      ],
      "text/plain": [
       "<IPython.core.display.HTML object>"
      ]
     },
     "metadata": {},
     "output_type": "display_data"
    }
   ],
   "source": [
    "from IPython.display import display, HTML\n",
    "import pandas as pd\n",
    "import minsearch\n",
    "\n",
    "# Path to your JSONL file\n",
    "file_path = '../data/bq-results-20240829-041517-1724904953827.jsonl'\n",
    "\n",
    "# Read the JSONL file directly into a Pandas DataFrame\n",
    "df = pd.read_json(file_path, lines=True)\n",
    "\n",
    "# Display the first few rows of the DataFrame\n",
    "display(HTML(df.head().to_html()))\n"
   ]
  },
  {
   "cell_type": "markdown",
   "metadata": {},
   "source": [
    "### Index Data and Test Searching with Minsearch"
   ]
  },
  {
   "cell_type": "code",
   "execution_count": 3,
   "metadata": {},
   "outputs": [
    {
     "data": {
      "text/plain": [
       "Index(['abstract', 'authors', 'keywords', 'organization_affiliated', 'title',\n",
       "       'id'],\n",
       "      dtype='object')"
      ]
     },
     "execution_count": 3,
     "metadata": {},
     "output_type": "execute_result"
    }
   ],
   "source": [
    "df.columns"
   ]
  },
  {
   "cell_type": "code",
   "execution_count": 4,
   "metadata": {},
   "outputs": [],
   "source": [
    "index = minsearch.Index(\n",
    "    text_fields=['abstract', 'authors', 'keywords', 'organization_affiliated', 'title', 'id'],\n",
    "    keyword_fields=['id']\n",
    ")"
   ]
  },
  {
   "cell_type": "code",
   "execution_count": 6,
   "metadata": {},
   "outputs": [
    {
     "data": {
      "text/plain": [
       "<minsearch.Index at 0x282adf2c3b0>"
      ]
     },
     "execution_count": 6,
     "metadata": {},
     "output_type": "execute_result"
    }
   ],
   "source": [
    "documents = df.to_dict(orient='records')\n",
    "index.fit(documents)"
   ]
  },
  {
   "cell_type": "code",
   "execution_count": 8,
   "metadata": {},
   "outputs": [
    {
     "name": "stdout",
     "output_type": "stream",
     "text": [
      "Secondhand Smoke Exposure During Pregnancy and Mothers’ Subsequent Breastfeeding Outcomes: A Systematic Review and Meta-Analysis\n",
      "A U-shaped Association of Breastfeeding Duration with Cognitive Impairment in Chinese Postmenopausal Women\n",
      "Femtosecond photoexcitation dynamics inside a quantum solvent\n",
      "Complementary vibrational spectroscopy\n",
      "Utility of prenatal MRI in the evaluation and management of fetal ventriculomegaly\n",
      "Control of swarming of molecular robots\n",
      "Which quadrant is less painful for intravitreal injection? A prospective study\n",
      "Interaction of glutathione S-transferase polymorphisms and tobacco smoking during pregnancy in susceptibility to autism spectrum disorders\n",
      "Engineering stable electrocatalysts by synergistic stabilization between carbide cores and Pt shells\n",
      "High level of soluble human leukocyte antigen (HLA)-G at beginning of pregnancy as predictor of risk of malaria during infancy\n"
     ]
    }
   ],
   "source": [
    "query = 'which papers deal with pregnancy and breastfeeding?'\n",
    "result = index.search(query, num_results=10)\n",
    "for r in result:\n",
    "    print(r['title'])"
   ]
  },
  {
   "cell_type": "code",
   "execution_count": null,
   "metadata": {},
   "outputs": [],
   "source": []
  }
 ],
 "metadata": {
  "kernelspec": {
   "display_name": "Python 3 (ipykernel)",
   "language": "python",
   "name": "python3"
  },
  "language_info": {
   "codemirror_mode": {
    "name": "ipython",
    "version": 3
   },
   "file_extension": ".py",
   "mimetype": "text/x-python",
   "name": "python",
   "nbconvert_exporter": "python",
   "pygments_lexer": "ipython3",
   "version": "3.12.3"
  }
 },
 "nbformat": 4,
 "nbformat_minor": 4
}
